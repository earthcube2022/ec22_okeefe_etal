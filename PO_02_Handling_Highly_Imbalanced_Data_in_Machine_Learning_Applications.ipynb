{
 "cells": [
  {
   "cell_type": "markdown",
   "id": "237887bf",
   "metadata": {},
   "source": [
    "# Handling Highly Imbalanced Data in Machine Learning Applications"
   ]
  },
  {
   "cell_type": "markdown",
   "id": "42a3d4e0",
   "metadata": {},
   "source": [
    "## Authors\n",
    "\n",
    "- Author1 = {\"name\": \"Patrick M. O'Keefe\", \"affiliation\": \"New Jersey Institute of Technology\", \"email\": \"pmo6@njit.edu\"}\n",
    "- Author2 = {\"name\": \"Viacheslav M. Sadykov\", \"affiliation\": \"Georgia State University\", \"email\": \"vsadykov@gsu.edu\"}\n",
    "- Author3 = {\"name\": \"Alexander G. Kosovichev\", \"affiliation\": \"New Jersey Institute of Technology\", \"email\": \"alexander.g.kosovichev@njit.edu\"}\n",
    "- Author4 = {\"name\": \"Gelu M. Nita\", \"affiliation\": \"New Jersey Institute of Technology\", \"email\": \"gnita@njit.edu\"}\n",
    "- Author5 = {\"name\": \"Vincent Oria\", \"affiliation\": \"New Jersey Institute of Technology\", \"email\": \"vincent.oria@njit.edu\"}\n",
    "- Author6 = {\"name\": \"Shantanu Sharma\", \"affiliation\": \"New Jersey Institute of Technology\", \"email\": \"shantanu.sharma@njit.edu\"}\n",
    "- Author7 = {\"name\": \"Fraila Francis\", \"affiliation\": \"New Jersey Institute of Technology\", \"email\": \"ff29@njit.edu\"}\n",
    "- Author8 = {\"name\": \"Chun Jie Chong\", \"affiliation\": \"New Jersey Institute of Technology\", \"email\": \"cc255@njit.edu\"}"
   ]
  },
  {
   "cell_type": "markdown",
   "id": "7bd404b5",
   "metadata": {},
   "source": [
    "## Table of contents\n",
    "- [Purpose](#purpose)\n",
    "- [Technical contributions](#tech-contr)\n",
    "- [Methodology](#methodology)\n",
    "- [Results](#results)\n",
    "- [Keywords](#keywords)\n",
    "- [Citation](#citation)\n",
    "- [Suggested next steps](#next-steps)\n",
    "- [Setup](#setup)\n",
    "    - [Library import](#library-import)\n",
    "    - [Data import](#data-import)\n",
    "- [Data processing and analysis](#data-pna)\n",
    "    - [Using the raw data](#raw-data)\n",
    "        - [Splitting the data into X and Y sets](#xy-split)\n",
    "        - [Splitting the data into training and testing sets](#traintest-split)\n",
    "        - [Defining and fitting the classifier](#classifier)\n",
    "        - [Performing the initial analysis](#init-analysis)\n",
    "        - [Measuring bias in the initial analysis](#bias-init-analysis)\n",
    "    - [Bias correction](#bias-correction)\n",
    "        - [Method 1: undersampling the data](#m1)\n",
    "        - [Method 2: oversampling the data](#m2)\n",
    "        - [Method 3: adjusting class weights](#m3)\n",
    "        - [Method 4: trimming the trees](#m4)\n",
    "        - [Method 5: using only events likely to be in the minority class](#m5)\n",
    "        - [Method 6: putting it together](#m6)\n",
    "- [Comparison of Data Obtained](#comp)\n",
    "- [Conclusion](#conc)\n",
    "- [Applicability to Other Algorithms](#app)\n",
    "- [References](#ref)"
   ]
  },
  {
   "cell_type": "markdown",
   "id": "85db70b1",
   "metadata": {},
   "source": [
    "## Purpose<a class=\"anchor\" id=\"purpose\"></a>\n",
    "Machine learning techniques can be applied across various industries to make accurate predictions of future data points based on observed patterns. However, in cases where there are vast imbalances to training data, algorithms may default to the majority classes when predicting future data points and thus cause inaccuracy in predictions. This may be especially undesirable when predicting rare but dangerous activities such as solar proton events (SPE) that could damage sensitive electronics and affect the general ecosystem on Earth. Traditional methods to remedy class imbalance involve manipulation of the training data to create even splits between classes, but synthetically balanced data may be unrepresentative of the original data. There are, however, additional techniques that can be used without the risk of using sampled data that is unrepresentative of the original data.\n",
    "\n",
    "In this work, we develop a database and analyze the application of various class-imbalance treatment techniques (oversampling, undersampling, class weight assignment) to build balanced classifiers for the prediction of whether the solar flare results in an SPE event, with the goal of developing an unbiased solution. Our data set consists of the soft X-ray properties of the solar flares detected by GOES satellite from 2001 to 2020, namely the peak values of the flux in 0.05-0.4 nm and 0.1-0.8 nm channels and related temperature and emission measure peak values derived with TEBBS algorithm. We utilize the balanced accuracy score and other assessment metrics (such as TSS and HSS) for the evaluation of the machine learning prediction. We find that vastly imbalanced data may be analyzed without the risks involved with oversampling or undersampling and accurate, unbiased classifications may be produced.\n",
    "\n",
    "\n",
    "## Technical contributions<a class=\"anchor\" id=\"tech-contr\"></a>\n",
    "- Demonstrating how machine learning applications can effectively function despite vast imbalances in training data.\n",
    "    - Exploring various methods of handling class imbalance and quantifying their effectivenesses.\n",
    "    - Exploring hyperparameters found within the methods of the SciKit-Learn library that can be adjusted to perform the requisite tasks.\n",
    "\n",
    "## Methodology<a class=\"anchor\" id=\"methodology\"></a>\n",
    "This notebook shows several examples of how data imbalances can be remedied.\n",
    "- The imbalanced data is first analyzed and tested to give a benchmark metric.\n",
    "- Evaluations are performed by computing accuracy scores to gauge the effectiveness of the classifier on the dataset.\n",
    "    - Balanced accuracy scores, true skill statistics, and Heidke Skill Scores are used to gauge bias towards the majority class.\n",
    "- Afterwards, various methods of imbalance correction are applied to the data and to the classifier.\n",
    "- The various methods are compared in their accuracy metrics and their potential drawbacks.\n",
    "\n",
    "## Results<a class=\"anchor\" id=\"results\"></a>\n",
    "This notebook demonstrates how a machine learning application can effectively function despite vast imbalances in training data.\n",
    "\n",
    "## Funding<a class=\"anchor\" id=\"results\"></a>\n",
    "This work was supported from NSF grant number 1639683 and NASA grant number 80NSSC20K0302.\n",
    "\n",
    "## Keywords<a class=\"anchor\" id=\"keywords\"></a>\n",
    "keywords=[\"solar energetic particles\", \"machine learning\", \"databases\"]\n",
    "\n",
    "## Citation<a class=\"anchor\" id=\"citation\"></a>\n",
    "O'Keefe et al 2022. Handling Highly Imbalanced Data in Machine Learning Applications. Accessed at https://github.com/earthcube2022/ec22_okeefe_etal.\n",
    "\n",
    "## Suggested next steps<a class=\"anchor\" id=\"next-steps\"></a>\n",
    "We recommend that developers of machine learning applications use our findings to remedy imbalances in their own organizations' data. We also recommend that developers of machine learning libraries add bias correction methods such as the ones being suggested or equivalents of them in more of their algorithms."
   ]
  },
  {
   "cell_type": "markdown",
   "id": "5188c1dd",
   "metadata": {},
   "source": [
    "# Setup<a class=\"anchor\" id=\"setup\"></a>\n",
    "\n",
    "## Library import<a class=\"anchor\" id=\"library-import\"></a>"
   ]
  },
  {
   "cell_type": "code",
   "execution_count": 1,
   "id": "6dfba4dd",
   "metadata": {},
   "outputs": [],
   "source": [
    "import math\n",
    "import random\n",
    "import requests\n",
    "import numpy as np\n",
    "import pandas as pd\n",
    "from matplotlib import pyplot as plt\n",
    "from sklearn import datasets\n",
    "from sklearn import tree\n",
    "from sklearn import metrics\n",
    "from sklearn.model_selection import train_test_split\n",
    "from sklearn.ensemble import RandomForestClassifier\n",
    "from sklearn.utils import resample\n",
    "from sklearn.feature_selection import SelectKBest, f_classif"
   ]
  },
  {
   "cell_type": "markdown",
   "id": "74c44a9d",
   "metadata": {},
   "source": [
    "## Data import<a class=\"anchor\" id=\"data-import\"></a>\n",
    "This data was previously downloaded from the flare database stored at https://solarflare.njit.edu. These flare parameters were automatically calculated there and are present in the file:\n",
    "\n",
    "* MinDur: The duration of the flare in minutes.\n",
    "* Tmax: The maximum temperature of the flare obtained in a one-temperature approximation.\n",
    "* EMmax: The maximum emission measure of the flare obtained in a one-temperature approximation.\n",
    "* PrecisePeak: The peak X-ray flux of the flare, measured in 10^-8 W/m^2.\n",
    "* StartTo...: The time at which the respective parameter is achieved, measured in minutes after the start of the flare.\n",
    "* ...ToEnd: The time at which the respective parameter is achieved, measured in minutes before the end of the flare.\n",
    "* CausedSPE: Whether or not the flare caused an SPE event."
   ]
  },
  {
   "cell_type": "code",
   "execution_count": 2,
   "id": "bef5c949",
   "metadata": {},
   "outputs": [],
   "source": [
    "data = pd.read_json(\"./data/sunData.json\")"
   ]
  },
  {
   "cell_type": "markdown",
   "id": "3d015cd5",
   "metadata": {},
   "source": [
    "# Data processing and analysis<a class=\"anchor\" id=\"data-pna\"></a>"
   ]
  },
  {
   "cell_type": "markdown",
   "id": "7fb85930",
   "metadata": {},
   "source": [
    "## Using the raw data<a class=\"anchor\" id=\"raw-data\"></a>\n",
    "### Splitting the data into X and Y sets<a class=\"anchor\" id=\"xy-split\"></a>\n",
    "From the imported data, the data can be split into its features and classes:"
   ]
  },
  {
   "cell_type": "code",
   "execution_count": 3,
   "id": "b8e3384b",
   "metadata": {},
   "outputs": [],
   "source": [
    "X = data[['MinDur', 'Tmax', 'EMmax', 'PrecisePeak', 'StartToTmax', 'TmaxToEnd', 'StartToEMmax', 'EMmaxToEnd', 'StartToPeak', 'PeakToEnd']]\n",
    "y = data['CausedSPE']"
   ]
  },
  {
   "cell_type": "markdown",
   "id": "53167896",
   "metadata": {},
   "source": [
    "### Splitting the data into training and testing sets<a class=\"anchor\" id=\"traintest-split\"></a>"
   ]
  },
  {
   "cell_type": "code",
   "execution_count": 4,
   "id": "5efaa79c",
   "metadata": {},
   "outputs": [],
   "source": [
    "rs = 1\n",
    "random.seed(rs)\n",
    "X_train, X_test, y_train, y_test = train_test_split(X, y, test_size = 0.3, random_state = rs)"
   ]
  },
  {
   "cell_type": "markdown",
   "id": "942aaadc",
   "metadata": {},
   "source": [
    "### Defining and fitting the classifier<a class=\"anchor\" id=\"classifier\"></a>\n",
    "According to Kathryn Whitman et al. (2022), models using empirical evidence of solar energetic activity are preferred by heliophysicists due to the relationships involved being quickly computed and easily applied to future flares. Seeing that the random forest algorithm performs several analyses of the data to obtain several sets of such evidence, it will be used in this particular application.\n",
    "\n",
    "To increase the randomnesses of the decision trees in order to force the algorithm to produce more distinct analyses of the data, the number of features in any one decision tree is limited to the square root of the total number of features in the dataframe. To make sure that the application is making efficient use of all available processing resources, n_jobs is set to -1 to parallelize the application into as many jobs as possible.\n",
    "\n",
    "This is all implemented as follows:"
   ]
  },
  {
   "cell_type": "code",
   "execution_count": 5,
   "id": "f66c63c4",
   "metadata": {},
   "outputs": [
    {
     "data": {
      "text/plain": [
       "RandomForestClassifier(max_features='sqrt', n_jobs=-1, random_state=1)"
      ]
     },
     "execution_count": 5,
     "metadata": {},
     "output_type": "execute_result"
    }
   ],
   "source": [
    "clf = RandomForestClassifier(max_features = \"sqrt\", n_jobs = -1, random_state = rs)\n",
    "clf.fit(X_train, y_train)"
   ]
  },
  {
   "cell_type": "markdown",
   "id": "f805f242",
   "metadata": {},
   "source": [
    "The classifier may be visualized as follows by taking its average depth and number of leaf nodes. For the purpose of comparison of each method, these statistics will be recorded in a DataFrame."
   ]
  },
  {
   "cell_type": "code",
   "execution_count": 6,
   "id": "13cc655b",
   "metadata": {
    "scrolled": true
   },
   "outputs": [
    {
     "name": "stdout",
     "output_type": "stream",
     "text": [
      "Average depth: 11.7\n",
      "Average number of leaves: 57.32\n"
     ]
    }
   ],
   "source": [
    "dfrf = pd.DataFrame(columns = [\"Test\", \"AverageDepth\", \"AverageLeaves\"])\n",
    "def visualizeRandomForest(clf, df, test):\n",
    "    avgDepth = 0\n",
    "    avgLeaves = 0\n",
    "    for i in range(0, len(clf.estimators_)):\n",
    "        avgDepth += clf.estimators_[i].get_depth()\n",
    "        avgLeaves += clf.estimators_[i].get_n_leaves()\n",
    "    avgDepth /= len(clf.estimators_)\n",
    "    avgLeaves /= len(clf.estimators_)\n",
    "    print(\"Average depth: \" + str(avgDepth))\n",
    "    print(\"Average number of leaves: \" + str(avgLeaves))\n",
    "    df.loc[-1] = [test, avgDepth, avgLeaves]\n",
    "    df.index += 1\n",
    "    df = df.sort_index()\n",
    "visualizeRandomForest(clf, dfrf, \"Baseline\")"
   ]
  },
  {
   "cell_type": "markdown",
   "id": "13e893db",
   "metadata": {},
   "source": [
    "### Performing the initial analysis<a class=\"anchor\" id=\"init-analysis\"></a>\n",
    "After the classifier has been fit with the training data, it can analyze the testing data and provide an accuracy score based on whether the predictions fell into the correct classes."
   ]
  },
  {
   "cell_type": "code",
   "execution_count": 7,
   "id": "52034675",
   "metadata": {},
   "outputs": [
    {
     "name": "stdout",
     "output_type": "stream",
     "text": [
      "Accuracy: 0.9969086021505377\n"
     ]
    }
   ],
   "source": [
    "y_pred = clf.predict(X_test)\n",
    "print(\"Accuracy: \" + str(metrics.accuracy_score(y_test, y_pred)))"
   ]
  },
  {
   "cell_type": "markdown",
   "id": "813418ce",
   "metadata": {},
   "source": [
    "### Measuring bias in the initial analysis<a class=\"anchor\" id=\"bias-init-analysis\"></a>\n",
    "A score this high may sound impressive at first, but the data is heavily skewed in favor of the negative class, as seen below:"
   ]
  },
  {
   "cell_type": "code",
   "execution_count": 8,
   "id": "2587c212",
   "metadata": {},
   "outputs": [
    {
     "name": "stdout",
     "output_type": "stream",
     "text": [
      "Negative class size: 24721\n",
      "Positive class size: 76\n"
     ]
    }
   ],
   "source": [
    "negClass = data[(data[\"CausedSPE\"] == False)]\n",
    "posClass = data[(data[\"CausedSPE\"] == True)]\n",
    "negClassSize = negClass.shape[0]\n",
    "posClassSize = posClass.shape[0]\n",
    "print(\"Negative class size: \" + str(negClassSize))\n",
    "print(\"Positive class size: \" + str(posClassSize))"
   ]
  },
  {
   "cell_type": "markdown",
   "id": "69d71a8a-936c-47ce-8e42-1f42ceeb3f52",
   "metadata": {},
   "source": [
    "To compare the characteristics of the data in each class, a histogram may be used to visualize the number of flares in various categories. For the sake of simplicity, only the PrecisePeak parameter of each flare will be shown, as it is the most important parameter as determined by this f classifier."
   ]
  },
  {
   "cell_type": "code",
   "execution_count": 9,
   "id": "f5688768-32d9-4d92-98b1-fd5af2c80120",
   "metadata": {},
   "outputs": [
    {
     "name": "stdout",
     "output_type": "stream",
     "text": [
      "Index(['PrecisePeak'], dtype='object')\n"
     ]
    }
   ],
   "source": [
    "fs = SelectKBest(f_classif, k = 1)\n",
    "X_new = fs.fit_transform(X, y)\n",
    "mask = fs.get_support()\n",
    "xCols = X.columns[mask]\n",
    "print(xCols)"
   ]
  },
  {
   "cell_type": "markdown",
   "id": "c1a11cd5-5798-4c9e-ad1e-9cd35cba2f3e",
   "metadata": {},
   "source": [
    "The histogram may be seen below. A logarithmic y-axis will be used to further help visualize the distributions of the data:"
   ]
  },
  {
   "cell_type": "code",
   "execution_count": 10,
   "id": "7709d9b6-16b6-45d4-b5e2-d0fb16c7cb85",
   "metadata": {},
   "outputs": [
    {
     "data": {
      "image/png": "[encoded data removed]",
      "text/plain": [
       "<Figure size 432x288 with 1 Axes>"
      ]
     },
     "metadata": {
      "needs_background": "light"
     },
     "output_type": "display_data"
    }
   ],
   "source": [
    "fig, ax = plt.subplots()\n",
    "ax.hist(posClass['PrecisePeak'], label = \"SEP-Active\", color = \"#e50000\", alpha = 0.6, log = True)\n",
    "ax.hist(negClass['PrecisePeak'], label = \"SEP-Quiet\", color = \"#0000e5\", alpha = 0.6, log = True)\n",
    "ax.set_xlabel(\"PrecisePeak\")\n",
    "ax.set_ylabel(\"Number of Events\")\n",
    "ax.legend()\n",
    "plt.show()"
   ]
  },
  {
   "cell_type": "markdown",
   "id": "d98aea64",
   "metadata": {},
   "source": [
    "While a clean split can be visualized to some extent, many of the flares in the positive class have PrecisePeak values in a similar range as those in the negative class. Therefore, the bias of the algorithm must therefore be measured in order to see how fairly it is treating the data at face value. There are multiple methods of doing so.\n",
    "\n",
    "First, the balanced accuracy score is used to measure the average of recall obtained on each class. Next, the true skill statistic (TSS) and Heidke Skill Score (HSS) are calculated as follows:"
   ]
  },
  {
   "cell_type": "code",
   "execution_count": 11,
   "id": "04216cdb",
   "metadata": {},
   "outputs": [],
   "source": [
    "def compute_TSS(y_test, y_pred):\n",
    "    tn, fp, fn, tp = metrics.confusion_matrix(y_test, y_pred).ravel()\n",
    "    return tp/(tp + fn) - fp/(fp + tn)\n",
    "def compute_HSS(y_test, y_pred):\n",
    "    tn, fp, fn, tp = metrics.confusion_matrix(y_test, y_pred).ravel()\n",
    "    return 2 * (tp * tn - fn * fp)/((tp + fn) * (fn + tn) + (tp + fp) * (tn + fp))"
   ]
  },
  {
   "cell_type": "markdown",
   "id": "081d4531",
   "metadata": {},
   "source": [
    "To view all of this information, we may build a performance table like so. For simplicity's sake, the metrics will be rounded to four decimal places. These metrics will also be stored for comparison."
   ]
  },
  {
   "cell_type": "code",
   "execution_count": 12,
   "id": "13538c54",
   "metadata": {},
   "outputs": [
    {
     "name": "stdout",
     "output_type": "stream",
     "text": [
      "              Metric   Value\n",
      "0           Accuracy  0.9969\n",
      "1  Balanced Accuracy  0.4999\n",
      "2                TSS -0.0001\n",
      "3                HSS -0.0003\n"
     ]
    }
   ],
   "source": [
    "dfpt = pd.DataFrame(columns = [\"Test\", \"Accuracy\", \"BalancedAccuracy\", \"TSS\", \"HSS\"])\n",
    "def dispPerfTable(y_test, y_pred, df, test):\n",
    "    acc = round(metrics.accuracy_score(y_test, y_pred), 4)\n",
    "    bAcc = round(metrics.balanced_accuracy_score(y_test, y_pred), 4)\n",
    "    TSS = round(compute_TSS(y_test, y_pred), 4)\n",
    "    HSS = round(compute_HSS(y_test, y_pred), 4)\n",
    "    retData = {'Metric':'Accuracy', 'Value':acc}, {'Metric':'Balanced Accuracy', 'Value':bAcc}, {'Metric':'TSS', 'Value':TSS}, {'Metric':'HSS', 'Value':HSS}\n",
    "    print(pd.DataFrame.from_dict(retData))\n",
    "    df.loc[-1] = [test, acc, bAcc, TSS, HSS]\n",
    "    df.index += 1\n",
    "    df = df.sort_index()\n",
    "dispPerfTable(y_test, y_pred, dfpt, \"Baseline\")"
   ]
  },
  {
   "cell_type": "markdown",
   "id": "a7aa1d3b",
   "metadata": {},
   "source": [
    "Seeing that the initial score is indeed hiding bias in favor of the majority class, the bias needs to be corrected in order to obtain a fair analysis.\n",
    "## Bias correction<a class=\"anchor\" id=\"bias-correction\"></a>\n",
    "There are several methods of correcting biases in order to obtain fair analyses.\n",
    "### Method 1: undersampling the data<a class=\"anchor\" id=\"m1\"></a>\n",
    "This simply involves removing data from both classes in order to produce data sets of equal size. With this method, there is no need to produce synthetic data in order to balance out the classes, but the classifier will not have much to if the data sets are very small in size.\n",
    "\n",
    "To mitigate the possibility of the new training data having duplicate records of the testing data, the training and testing sets will need to be redefined.\n",
    "\n",
    "The data is resized and the classifier is refit and visualized as follows:"
   ]
  },
  {
   "cell_type": "code",
   "execution_count": 13,
   "id": "04d99a12",
   "metadata": {},
   "outputs": [
    {
     "name": "stdout",
     "output_type": "stream",
     "text": [
      "Average depth: 4.75\n",
      "Average number of leaves: 8.09\n"
     ]
    }
   ],
   "source": [
    "data_train, data_test = train_test_split(data, test_size = 0.3, random_state = rs)\n",
    "causedSpeTrain = data_train[data_train['CausedSPE'] == True]\n",
    "noSpeTrain = data_train[data_train['CausedSPE'] == False]\n",
    "speTrainData = resample(causedSpeTrain, n_samples = int(posClassSize * 0.7))\n",
    "noSpeTrainData = resample(noSpeTrain, n_samples = int(posClassSize * 0.7))\n",
    "newDataTrain = pd.concat([speTrainData, noSpeTrainData])\n",
    "X_train = newDataTrain[['MinDur', 'Tmax', 'EMmax', 'PrecisePeak', 'StartToTmax', 'TmaxToEnd', 'StartToEMmax', 'EMmaxToEnd', 'StartToPeak', 'PeakToEnd']]\n",
    "y_train = newDataTrain['CausedSPE']\n",
    "X_test = data_test[['MinDur', 'Tmax', 'EMmax', 'PrecisePeak', 'StartToTmax', 'TmaxToEnd', 'StartToEMmax', 'EMmaxToEnd', 'StartToPeak', 'PeakToEnd']]\n",
    "y_test = data_test['CausedSPE']\n",
    "clf.fit(X_train, y_train)\n",
    "visualizeRandomForest(clf, dfrf, \"Undersampled\")"
   ]
  },
  {
   "cell_type": "markdown",
   "id": "0ac5157a",
   "metadata": {},
   "source": [
    "The performance table for this test may be seen here:"
   ]
  },
  {
   "cell_type": "code",
   "execution_count": 14,
   "id": "f748ee16",
   "metadata": {},
   "outputs": [
    {
     "name": "stdout",
     "output_type": "stream",
     "text": [
      "              Metric   Value\n",
      "0           Accuracy  0.9294\n",
      "1  Balanced Accuracy  0.9420\n",
      "2                TSS  0.8839\n",
      "3                HSS  0.0688\n"
     ]
    }
   ],
   "source": [
    "y_pred = clf.predict(X_test)\n",
    "dispPerfTable(y_test, y_pred, dfpt, \"Undersampled\")"
   ]
  },
  {
   "cell_type": "markdown",
   "id": "f1018d7e",
   "metadata": {},
   "source": [
    "While the results seem promising, with the undersampled data, there is not much data to draw empirical analyses from, so problems may only arise in the long run."
   ]
  },
  {
   "cell_type": "markdown",
   "id": "e3833b60",
   "metadata": {},
   "source": [
    "### Method 2: oversampling the data<a class=\"anchor\" id=\"m2\"></a>\n",
    "The opposite approach to that taken previously is taken with this method: the data sets are enlarged to make them even in size. This does give the classifier more data to work with, but it uses synthetic data that may be unrepresentative of either class.\n",
    "\n",
    "The data is resized again and the classifier is refit and visualized:"
   ]
  },
  {
   "cell_type": "code",
   "execution_count": 15,
   "id": "d6ad365d",
   "metadata": {},
   "outputs": [
    {
     "name": "stdout",
     "output_type": "stream",
     "text": [
      "Average depth: 27.21\n",
      "Average number of leaves: 103.52\n"
     ]
    }
   ],
   "source": [
    "speTrainData = resample(causedSpeTrain, n_samples = int(data.size * 0.35))\n",
    "noSpeTrainData = resample(noSpeTrain, n_samples = int(data.size * 0.35))\n",
    "newDataTrain = pd.concat([speTrainData, noSpeTrainData])\n",
    "X_train = newDataTrain[['MinDur', 'Tmax', 'EMmax', 'PrecisePeak', 'StartToTmax', 'TmaxToEnd', 'StartToEMmax', 'EMmaxToEnd', 'StartToPeak', 'PeakToEnd']]\n",
    "y_train = newDataTrain['CausedSPE']\n",
    "clf.fit(X_train, y_train)\n",
    "visualizeRandomForest(clf, dfrf, \"Oversampled\")"
   ]
  },
  {
   "cell_type": "markdown",
   "id": "35537c40",
   "metadata": {},
   "source": [
    "The performance table for this test may be seen here:"
   ]
  },
  {
   "cell_type": "code",
   "execution_count": 16,
   "id": "3aa05a12",
   "metadata": {},
   "outputs": [
    {
     "name": "stdout",
     "output_type": "stream",
     "text": [
      "              Metric   Value\n",
      "0           Accuracy  0.9964\n",
      "1  Balanced Accuracy  0.5903\n",
      "2                TSS  0.1806\n",
      "3                HSS  0.2269\n"
     ]
    }
   ],
   "source": [
    "y_pred = clf.predict(X_test)\n",
    "dispPerfTable(y_test, y_pred, dfpt, \"Oversampled\")"
   ]
  },
  {
   "cell_type": "markdown",
   "id": "0a63d71f",
   "metadata": {},
   "source": [
    "Here, the opposite problem is encountered: the class definitions have been changed and it is therefore more difficult to use any new data outside of the original set thanks to the data in the training set being copied many times over. While TSS and HSS metrics may have improved from their baseline counterparts, balanced accuracy has only made a slight, if any, improvement."
   ]
  },
  {
   "cell_type": "markdown",
   "id": "4ce0165d",
   "metadata": {},
   "source": [
    "### Method 3: adjusting class weights<a class=\"anchor\" id=\"m3\"></a>\n",
    "Sklearn's RandomForestClassifier has a built-in feature that allows one to tune the classifier so that the weight of each class is inversely proportional to the class frequencies of the input data.\n",
    "\n",
    "The classifier is first refit and visualized:"
   ]
  },
  {
   "cell_type": "code",
   "execution_count": 17,
   "id": "d8bacfce",
   "metadata": {},
   "outputs": [
    {
     "name": "stdout",
     "output_type": "stream",
     "text": [
      "Average depth: 23.71\n",
      "Average number of leaves: 77.63\n"
     ]
    }
   ],
   "source": [
    "X_train, X_test, y_train, y_test = train_test_split(X, y, test_size = 0.3, random_state = rs)\n",
    "clf = RandomForestClassifier(class_weight = \"balanced\", max_features = \"sqrt\", n_jobs = -1, random_state = rs)\n",
    "clf.fit(X_train, y_train)\n",
    "visualizeRandomForest(clf, dfrf, \"Balanced Class Weights\")"
   ]
  },
  {
   "cell_type": "markdown",
   "id": "89f3811e",
   "metadata": {},
   "source": [
    "The performance table for this test may be seen here:"
   ]
  },
  {
   "cell_type": "code",
   "execution_count": 18,
   "id": "365e8ed4",
   "metadata": {},
   "outputs": [
    {
     "name": "stdout",
     "output_type": "stream",
     "text": [
      "              Metric   Value\n",
      "0           Accuracy  0.9969\n",
      "1  Balanced Accuracy  0.5226\n",
      "2                TSS  0.0452\n",
      "3                HSS  0.0793\n"
     ]
    }
   ],
   "source": [
    "y_pred = clf.predict(X_test)\n",
    "dispPerfTable(y_test, y_pred, dfpt, \"Balanced Class Weights\")"
   ]
  },
  {
   "cell_type": "markdown",
   "id": "76f4c2ae",
   "metadata": {},
   "source": [
    "While any improvement to the baseline data would be slight, there is no need to synthesize data, nor is there a need to deprive the classifier of training data.\n",
    "\n",
    "The class weights may also be manually specified. In this example, the weights are determined by the probability of a data point being in the opposite class. The classifier is refit and visualized here:"
   ]
  },
  {
   "cell_type": "code",
   "execution_count": 19,
   "id": "d9b80c02",
   "metadata": {},
   "outputs": [
    {
     "name": "stdout",
     "output_type": "stream",
     "text": [
      "Average depth: 24.1\n",
      "Average number of leaves: 78.85\n"
     ]
    }
   ],
   "source": [
    "classSizeSum = negClassSize + posClassSize\n",
    "negClassPortion = negClassSize / classSizeSum\n",
    "posClassPortion = posClassSize / classSizeSum\n",
    "clf = RandomForestClassifier(class_weight = {0:posClassPortion, 1:negClassPortion}, max_features = \"sqrt\", n_jobs = -1, random_state = rs)\n",
    "clf.fit(X_train, y_train)\n",
    "visualizeRandomForest(clf, dfrf, \"Opposite Class Weights\")"
   ]
  },
  {
   "cell_type": "markdown",
   "id": "dcf1b5c7",
   "metadata": {},
   "source": [
    "The performance table for this test may be seen here:"
   ]
  },
  {
   "cell_type": "code",
   "execution_count": 20,
   "id": "b9c97b96",
   "metadata": {},
   "outputs": [
    {
     "name": "stdout",
     "output_type": "stream",
     "text": [
      "              Metric   Value\n",
      "0           Accuracy  0.9965\n",
      "1  Balanced Accuracy  0.5224\n",
      "2                TSS  0.0448\n",
      "3                HSS  0.0703\n"
     ]
    }
   ],
   "source": [
    "y_pred = clf.predict(X_test)\n",
    "dispPerfTable(y_test, y_pred, dfpt, \"Opposite Class Weights\")"
   ]
  },
  {
   "cell_type": "markdown",
   "id": "7c8d4c00",
   "metadata": {},
   "source": [
    "Again, little improvement, if any, is made to the baseline data, though there is no need to alter the number of samples in the training data."
   ]
  },
  {
   "cell_type": "markdown",
   "id": "861f8694",
   "metadata": {},
   "source": [
    "### Method 4: trimming the trees<a class=\"anchor\" id=\"m4\"></a>\n",
    "Until now, absolutely all data points in the training and testing sets were considered, leading to the potential for anomalies to cause counterproductive overanalysis. This can be remedied by adjusting the cost complexities of the trees and choosing the largest subtree with a cost complexity lower than the specified alpha value. The total cost complexity of a tree is the sum of the rate of misclassification and the product of the alpha value and the number of leaf nodes in the tree.\n",
    "\n",
    "For the examples in this notebook, an alpha value of 0.01 will be used.\n",
    "\n",
    "This can be implemented in Python as shown here, with the same measurements as before taken again:"
   ]
  },
  {
   "cell_type": "code",
   "execution_count": 21,
   "id": "58389346",
   "metadata": {},
   "outputs": [
    {
     "name": "stdout",
     "output_type": "stream",
     "text": [
      "Average depth: 0.0\n",
      "Average number of leaves: 1.0\n"
     ]
    }
   ],
   "source": [
    "clf = RandomForestClassifier(max_features = \"sqrt\", n_jobs = -1, ccp_alpha = 0.01, random_state = rs)\n",
    "clf.fit(X_train, y_train)\n",
    "visualizeRandomForest(clf, dfrf, \"Trimmed Trees\")"
   ]
  },
  {
   "cell_type": "markdown",
   "id": "f41fd374-a7e2-4b48-bb88-a2428c96c656",
   "metadata": {},
   "source": [
    "While this will mean the data will likely not be very accurately classified, here is the performance table for this test anyway for comparison:"
   ]
  },
  {
   "cell_type": "code",
   "execution_count": 22,
   "id": "61ed0b46-4f09-4a83-8801-29c7eacd235c",
   "metadata": {},
   "outputs": [
    {
     "name": "stdout",
     "output_type": "stream",
     "text": [
      "              Metric  Value\n",
      "0           Accuracy  0.997\n",
      "1  Balanced Accuracy  0.500\n",
      "2                TSS  0.000\n",
      "3                HSS  0.000\n"
     ]
    }
   ],
   "source": [
    "y_pred = clf.predict(X_test)\n",
    "dispPerfTable(y_test, y_pred, dfpt, \"Trimmed Trees\")"
   ]
  },
  {
   "cell_type": "markdown",
   "id": "71b25ce9",
   "metadata": {},
   "source": [
    "While this method does not necessarily function in isolation, this can improve results that already have bias correction applied. For this example, this will be demonstrated with the adjusted class weights to avoid the need for synthesis or removal of data, as either, again, may change the definition of either class or provide insufficient training data.\n",
    "\n",
    "When combined with the balanced class weights, here is the visualization of the classifier:"
   ]
  },
  {
   "cell_type": "code",
   "execution_count": 23,
   "id": "61f5bc92",
   "metadata": {},
   "outputs": [
    {
     "name": "stdout",
     "output_type": "stream",
     "text": [
      "Average depth: 3.59\n",
      "Average number of leaves: 5.96\n"
     ]
    }
   ],
   "source": [
    "clf = RandomForestClassifier(class_weight = \"balanced\", max_features = \"sqrt\", n_jobs = -1, ccp_alpha = 0.01, random_state = rs)\n",
    "clf.fit(X_train, y_train)\n",
    "visualizeRandomForest(clf, dfrf, \"Trimmed Trees with Balanced Class Weights\")"
   ]
  },
  {
   "cell_type": "markdown",
   "id": "5a681c51",
   "metadata": {},
   "source": [
    "The performance table for this test may be seen here:"
   ]
  },
  {
   "cell_type": "code",
   "execution_count": 24,
   "id": "83d9e597",
   "metadata": {},
   "outputs": [
    {
     "name": "stdout",
     "output_type": "stream",
     "text": [
      "              Metric   Value\n",
      "0           Accuracy  0.9630\n",
      "1  Balanced Accuracy  0.9135\n",
      "2                TSS  0.8270\n",
      "3                HSS  0.1165\n"
     ]
    }
   ],
   "source": [
    "y_pred = clf.predict(X_test)\n",
    "dispPerfTable(y_test, y_pred, dfpt, \"Trimmed Trees with Balanced Class Weights\")"
   ]
  },
  {
   "cell_type": "markdown",
   "id": "fdee1979",
   "metadata": {},
   "source": [
    "With opposite class weights, here is the visualization of the classifier:"
   ]
  },
  {
   "cell_type": "code",
   "execution_count": 25,
   "id": "dca35e76",
   "metadata": {},
   "outputs": [
    {
     "name": "stdout",
     "output_type": "stream",
     "text": [
      "Average depth: 3.62\n",
      "Average number of leaves: 6.11\n"
     ]
    }
   ],
   "source": [
    "clf = RandomForestClassifier(class_weight = {0:posClassPortion, 1:negClassPortion}, max_features = \"sqrt\", n_jobs = -1, ccp_alpha = 0.01, random_state = rs)\n",
    "clf.fit(X_train, y_train)\n",
    "visualizeRandomForest(clf, dfrf, \"Trimmed Trees with Opposite Class Weights\")"
   ]
  },
  {
   "cell_type": "markdown",
   "id": "79ef330b",
   "metadata": {},
   "source": [
    "The performance table for this test may be seen here:"
   ]
  },
  {
   "cell_type": "code",
   "execution_count": 26,
   "id": "8888fee3",
   "metadata": {},
   "outputs": [
    {
     "name": "stdout",
     "output_type": "stream",
     "text": [
      "              Metric   Value\n",
      "0           Accuracy  0.9614\n",
      "1  Balanced Accuracy  0.9353\n",
      "2                TSS  0.8707\n",
      "3                HSS  0.1175\n"
     ]
    }
   ],
   "source": [
    "y_pred = clf.predict(X_test)\n",
    "dispPerfTable(y_test, y_pred, dfpt, \"Trimmed Trees with Opposite Class Weights\")"
   ]
  },
  {
   "cell_type": "markdown",
   "id": "c3e1862b",
   "metadata": {},
   "source": [
    "### Method 5: using only events likely to be in the minority class<a class=\"anchor\" id=\"m5\"></a>\n",
    "While undersampling in general may only lead to a classifier having insufficient data to base calculations on, strategic undersampling can isolate events that are either borderline or likely to appear in the minority class. Performing a complete analysis on which events fall into this category can be just as cumbersome as performing the analyses already performed, so it may be beneficial to isolate the most important element for consideration.\n",
    "\n",
    "As determined earlier through an f classifier, the PrecisePeak parameter is the most important."
   ]
  },
  {
   "cell_type": "markdown",
   "id": "fa62d539",
   "metadata": {},
   "source": [
    "Next, this \"liar's poker\" system will determine which PrecisePeak value should be used as a threshold for more commonly occurring SPEs. It gathers the PrecisePeak parameters of all flares in the positive class as well as the same parameters in the negative class. It eliminates ranges from both lists that are less commonly found in the other as proportions of their respective lengths and selects the last value of the \"lower\" array to use as the threshold. The latter is determined by taking the arithmetic means of the unique values in both arrays.\n",
    "\n",
    "Prior to this point, outliers were not removed from the database because any slight change in the number of elements in it could completely erase the minority class. However, since the elements of both classes are isolated in order to obtain this threshold, removing the outliers from both classes is a must in order to obtain a threshold that does not correspond to an anomaly in either class.\n",
    "\n",
    "The threshold is computed as follows:"
   ]
  },
  {
   "cell_type": "code",
   "execution_count": 27,
   "id": "2feb0c42",
   "metadata": {},
   "outputs": [
    {
     "name": "stdout",
     "output_type": "stream",
     "text": [
      "570.0\n"
     ]
    }
   ],
   "source": [
    "def removeOutliers(arr):\n",
    "    q1 = arr[int(len(arr) / 4)]\n",
    "    q3 = arr[int(3 * len(arr) / 4)]\n",
    "    iqr = q3 - q1\n",
    "    q1r = q1 - (1.5 * iqr)\n",
    "    q3r = q3 + (1.5 * iqr)\n",
    "    delValues = []\n",
    "    for i in range(0, len(arr)):\n",
    "        if(arr[i] > q3r or arr[i] < q1r):\n",
    "            if(arr[i] not in delValues):\n",
    "                delValues.append(arr[i])\n",
    "    for i in range(0, len(delValues)):\n",
    "        if(delValues[i] in arr):\n",
    "            arr = list(filter((delValues[i]).__ne__, arr))\n",
    "    return arr\n",
    "def commonalityThreshold(arrA, arrB):\n",
    "    smallArr = []\n",
    "    bigArr = []\n",
    "    if(len(arrA) < len(arrB)):\n",
    "        smallArr = arrA\n",
    "        bigArr = arrB\n",
    "    else:\n",
    "        smallArr = arrB\n",
    "        bigArr = arrA\n",
    "    uniqueBigArr = list(np.unique(bigArr))\n",
    "    uniqueSmallArr = list(np.unique(smallArr))\n",
    "    for i in range(0, len(uniqueBigArr) - 1):\n",
    "        minI = uniqueBigArr[i]\n",
    "        maxI = uniqueBigArr[i + 1]\n",
    "        bigRangeCountI = int(len(list(x for x in bigArr if minI <= x < maxI)) / len(bigArr))\n",
    "        smallRangeCountI = int(len(list(x for x in smallArr if minI <= x < maxI)) / len(smallArr))\n",
    "        delValuesI = []\n",
    "        if(bigRangeCountI > smallRangeCountI):\n",
    "            for k in range(0, len(smallArr)):\n",
    "                if(smallArr[k] >= minI and smallArr[k] < maxI):\n",
    "                    delValuesI.append(smallArr[k])\n",
    "            for k in range(0, len(delValuesI)):\n",
    "                if(delValuesI[k] in smallArr):\n",
    "                    smallArr = list(filter((delValuesI[k]).__ne__, smallArr))\n",
    "        elif(smallRangeCountI > bigRangeCountI):\n",
    "            for k in range(0, len(smallArr)):\n",
    "                if(bigArr[k] >= minI and bigArr[k] < maxI):\n",
    "                    delValuesI.append(bigArr[k])\n",
    "            for k in range(0, len(delValuesI)):\n",
    "                if(delValuesI[k] in bigArr):\n",
    "                    bigArr = list(filter((delValuesI[k]).__ne__, bigArr))\n",
    "    for j in range(0, len(uniqueSmallArr) - 1):\n",
    "        minJ = uniqueSmallArr[j]\n",
    "        maxJ = uniqueSmallArr[j + 1]\n",
    "        bigRangeCountJ = int(len(list(x for x in bigArr if minJ <= x < maxJ)) / len(bigArr))\n",
    "        smallRangeCountJ = int(len(list(x for x in smallArr if minJ <= x < maxJ)) / len(smallArr))\n",
    "        delValuesJ = []\n",
    "        if(bigRangeCountJ > smallRangeCountJ):\n",
    "            for k in range(0, len(smallArr)):\n",
    "                if(smallArr[k] >= minJ and smallArr[k] < maxJ):\n",
    "                    delValuesJ.append(smallArr[k])\n",
    "            for k in range(0, len(delValuesJ)):\n",
    "                if(delValuesJ[k] in smallArr):\n",
    "                    smallArr = list(filter((delValuesJ[k]).__ne__, smallArr))\n",
    "        elif(smallRangeCountJ > bigRangeCountJ):\n",
    "            for k in range(0, len(smallArr)):\n",
    "                if(bigArr[k] >= minJ and bigArr[k] < maxJ):\n",
    "                    delValuesJ.append(bigArr[k])\n",
    "            for k in range(0, len(delValuesJ)):\n",
    "                if(delValuesJ[k] in bigArr):\n",
    "                    bigArr = list(filter((delValuesJ[k]).__ne__, bigArr))\n",
    "    uniqueBigArr = list(np.unique(bigArr))\n",
    "    uniqueSmallArr = list(np.unique(smallArr))\n",
    "    if((sum(uniqueBigArr) / len(uniqueBigArr)) < (sum(uniqueSmallArr) / len(uniqueSmallArr))):\n",
    "        return uniqueBigArr[-1]\n",
    "    else:\n",
    "        return uniqueSmallArr[-1]\n",
    "dps = data[['PrecisePeak', 'CausedSPE']]\n",
    "dpst = dps[(dps['CausedSPE'] == True)]\n",
    "sortedPeaksT = sorted(dpst['PrecisePeak'])\n",
    "sortedPeaksT = removeOutliers(sortedPeaksT)\n",
    "uniqueSortedPeaksT = list(np.unique(sortedPeaksT))\n",
    "dpsf = dps[(dps['CausedSPE'] == False)]\n",
    "sortedPeaksF = sorted(dpsf['PrecisePeak'])\n",
    "sortedPeaksF = removeOutliers(sortedPeaksF)\n",
    "uniqueSortedPeaksF = list(np.unique(sortedPeaksF))\n",
    "precisePeakThreshold = commonalityThreshold(sortedPeaksT, sortedPeaksF)\n",
    "print(precisePeakThreshold)"
   ]
  },
  {
   "cell_type": "markdown",
   "id": "8248471c",
   "metadata": {},
   "source": [
    "This corresponds to a threshold of GOES class C5.7. This result is validated by Arnold O. Benz et al's (2007) observations that flares of class C5 and greater in general cause radio events.\n",
    "\n",
    "The refit classifier may be visualized here:"
   ]
  },
  {
   "cell_type": "code",
   "execution_count": 28,
   "id": "9f35c5aa",
   "metadata": {},
   "outputs": [
    {
     "name": "stdout",
     "output_type": "stream",
     "text": [
      "Average depth: 11.14\n",
      "Average number of leaves: 48.71\n"
     ]
    }
   ],
   "source": [
    "benz_data_train = data_train[(data_train['PrecisePeak'] > precisePeakThreshold)]\n",
    "X_train = benz_data_train[['MinDur', 'Tmax', 'EMmax', 'PrecisePeak', 'StartToTmax', 'TmaxToEnd', 'StartToEMmax', 'EMmaxToEnd', 'StartToPeak', 'PeakToEnd']]\n",
    "y_train = benz_data_train['CausedSPE']\n",
    "X_test = data_test[['MinDur', 'Tmax', 'EMmax', 'PrecisePeak', 'StartToTmax', 'TmaxToEnd', 'StartToEMmax', 'EMmaxToEnd', 'StartToPeak', 'PeakToEnd']]\n",
    "y_test = data_test['CausedSPE']\n",
    "clf = RandomForestClassifier(max_features = \"sqrt\", n_jobs = -1, random_state = 1)\n",
    "clf.fit(X_train, y_train)\n",
    "visualizeRandomForest(clf, dfrf, \"Edge Cases Only\")"
   ]
  },
  {
   "cell_type": "markdown",
   "id": "eb8ef3d1",
   "metadata": {},
   "source": [
    "The performance table for this test may be seen here:"
   ]
  },
  {
   "cell_type": "code",
   "execution_count": 29,
   "id": "fdb6b525",
   "metadata": {},
   "outputs": [
    {
     "name": "stdout",
     "output_type": "stream",
     "text": [
      "              Metric   Value\n",
      "0           Accuracy  0.9962\n",
      "1  Balanced Accuracy  0.4996\n",
      "2                TSS -0.0008\n",
      "3                HSS -0.0013\n"
     ]
    }
   ],
   "source": [
    "y_pred = clf.predict(X_test)\n",
    "dispPerfTable(y_test, y_pred, dfpt, \"Edge Cases Only\")"
   ]
  },
  {
   "cell_type": "markdown",
   "id": "54daa9d9",
   "metadata": {},
   "source": [
    "Removing cases that are likely to be in the majority class may improve antibiased metrics thanks to the classifier not being able to default to the majority class for the data most likely to appear in it, but the improvement may still only be slight if there is any improvement at all."
   ]
  },
  {
   "cell_type": "markdown",
   "id": "14e30601",
   "metadata": {},
   "source": [
    "### Method 6: putting it together<a class=\"anchor\" id=\"m6\"></a>\n",
    "When combined with the aforementioned solution of trimming the trees and balancing the class weights, here is the classifier refit and visualization with balanced class weights:"
   ]
  },
  {
   "cell_type": "code",
   "execution_count": 30,
   "id": "9071ce76",
   "metadata": {},
   "outputs": [
    {
     "name": "stdout",
     "output_type": "stream",
     "text": [
      "Average depth: 4.99\n",
      "Average number of leaves: 9.02\n"
     ]
    }
   ],
   "source": [
    "clf = RandomForestClassifier(class_weight = \"balanced\", max_features = \"sqrt\", n_jobs = -1, ccp_alpha = 0.01, random_state = rs)\n",
    "clf.fit(X_train, y_train)\n",
    "visualizeRandomForest(clf, dfrf, \"Edge Cases Only with Trimmed Trees and Balanced Class Weights\")"
   ]
  },
  {
   "cell_type": "markdown",
   "id": "40ca9fd4",
   "metadata": {},
   "source": [
    "The performance table for this test may be seen here:"
   ]
  },
  {
   "cell_type": "code",
   "execution_count": 31,
   "id": "dccc3d30",
   "metadata": {},
   "outputs": [
    {
     "name": "stdout",
     "output_type": "stream",
     "text": [
      "              Metric   Value\n",
      "0           Accuracy  0.9876\n",
      "1  Balanced Accuracy  0.9032\n",
      "2                TSS  0.8063\n",
      "3                HSS  0.2777\n"
     ]
    }
   ],
   "source": [
    "y_pred = clf.predict(X_test)\n",
    "dispPerfTable(y_test, y_pred, dfpt, \"Edge Cases Only with Trimmed Trees and Balanced Class Weights\")"
   ]
  },
  {
   "cell_type": "markdown",
   "id": "c3c99c53",
   "metadata": {},
   "source": [
    "\n",
    "With opposite class weights, here is the refit classifier and its visualization:"
   ]
  },
  {
   "cell_type": "code",
   "execution_count": 32,
   "id": "0b999197",
   "metadata": {},
   "outputs": [
    {
     "name": "stdout",
     "output_type": "stream",
     "text": [
      "Average depth: 3.79\n",
      "Average number of leaves: 5.67\n"
     ]
    }
   ],
   "source": [
    "clf = RandomForestClassifier(class_weight = {0:posClassPortion, 1:negClassPortion}, max_features = \"sqrt\", n_jobs = -1, ccp_alpha = 0.01, random_state = rs)\n",
    "clf.fit(X_train, y_train)\n",
    "visualizeRandomForest(clf, dfrf, \"Edge Cases Only with Trimmed Trees and Opposite Class Weights\")"
   ]
  },
  {
   "cell_type": "markdown",
   "id": "ea901a09",
   "metadata": {},
   "source": [
    "The performance table for this test may be seen here:"
   ]
  },
  {
   "cell_type": "code",
   "execution_count": 33,
   "id": "7a9d4767",
   "metadata": {},
   "outputs": [
    {
     "name": "stdout",
     "output_type": "stream",
     "text": [
      "              Metric   Value\n",
      "0           Accuracy  0.9653\n",
      "1  Balanced Accuracy  0.9373\n",
      "2                TSS  0.8746\n",
      "3                HSS  0.1295\n"
     ]
    }
   ],
   "source": [
    "y_pred = clf.predict(X_test)\n",
    "dispPerfTable(y_test, y_pred, dfpt, \"Edge Cases Only with Trimmed Trees and Opposite Class Weights\")"
   ]
  },
  {
   "cell_type": "markdown",
   "id": "e1ae8817",
   "metadata": {},
   "source": [
    "Combining the previous two methods signifies a <i>slight</i> improvement in metrics: the HSS score of the balanced class weight test has notably improved, but not much else has changed from the tests in Method 4.\n",
    "# Comparison of Data Obtained<a class=\"anchor\" id=\"comp\"></a>\n",
    "Here are the average tree depths in each of the previous classifiers:"
   ]
  },
  {
   "cell_type": "code",
   "execution_count": 34,
   "id": "72f43da0-846c-41ba-ad0d-abcd57f34fcf",
   "metadata": {},
   "outputs": [
    {
     "data": {
      "image/png": "[encoded data removed]",
      "text/plain": [
       "<Figure size 432x288 with 1 Axes>"
      ]
     },
     "metadata": {
      "needs_background": "light"
     },
     "output_type": "display_data"
    }
   ],
   "source": [
    "fig, ax = plt.subplots()\n",
    "tests = dfrf[\"Test\"]\n",
    "x = np.arange(len(tests))\n",
    "ax.barh(x, dfrf[\"AverageDepth\"])\n",
    "ax.set_ylabel(\"Test\")\n",
    "ax.set_xlabel(\"Average Depth\")\n",
    "ax.set_yticks(x)\n",
    "ax.set_yticklabels(tests.astype(str).values, rotation = \"horizontal\")\n",
    "plt.show()"
   ]
  },
  {
   "cell_type": "markdown",
   "id": "967db557-ac68-4474-97d9-5dda8bbfeb4d",
   "metadata": {},
   "source": [
    "Here are the average numbers of leaves:"
   ]
  },
  {
   "cell_type": "code",
   "execution_count": 35,
   "id": "da105c87-8210-40c9-b25b-76d98716b14d",
   "metadata": {},
   "outputs": [
    {
     "data": {
      "image/png": "[encoded data removed]",
      "text/plain": [
       "<Figure size 432x288 with 1 Axes>"
      ]
     },
     "metadata": {
      "needs_background": "light"
     },
     "output_type": "display_data"
    }
   ],
   "source": [
    "fig, ax = plt.subplots()\n",
    "tests = dfrf[\"Test\"]\n",
    "x = np.arange(len(tests))\n",
    "ax.barh(x, dfrf[\"AverageLeaves\"])\n",
    "ax.set_ylabel(\"Test\")\n",
    "ax.set_xlabel(\"Average Number of Leaves\")\n",
    "ax.set_yticks(x)\n",
    "ax.set_yticklabels(tests.astype(str).values, rotation = \"horizontal\")\n",
    "plt.show()"
   ]
  },
  {
   "cell_type": "markdown",
   "id": "c1a86727-d0f9-4b62-8a80-1627f63d4d9e",
   "metadata": {},
   "source": [
    "Here are the values from the performance tables:"
   ]
  },
  {
   "cell_type": "code",
   "execution_count": 36,
   "id": "c874bfcd-6b03-4f68-bf74-77a9f359929b",
   "metadata": {},
   "outputs": [
    {
     "data": {
      "image/png": "[encoded data removed]",
      "text/plain": [
       "<Figure size 432x288 with 1 Axes>"
      ]
     },
     "metadata": {
      "needs_background": "light"
     },
     "output_type": "display_data"
    }
   ],
   "source": [
    "fig, ax = plt.subplots()\n",
    "tests = dfpt[\"Test\"]\n",
    "x = np.arange(len(tests))\n",
    "width = 0.2\n",
    "ax.barh(x - 3 * width / 2, dfpt[\"Accuracy\"], width, label = \"Accuracy\", color = \"#e50000\")\n",
    "ax.barh(x - width / 2, dfpt[\"BalancedAccuracy\"], width, label = \"Balanced Accuracy\", color = \"#0000e5\")\n",
    "ax.barh(x + width / 2, dfpt[\"TSS\"], width, label = \"TSS\", color = \"#00e500\")\n",
    "ax.barh(x + 3 * width / 2, dfpt[\"HSS\"], width, label = \"HSS\", color = \"#dfdf14\")\n",
    "ax.set_ylabel(\"Test\")\n",
    "ax.set_xlabel(\"Score\")\n",
    "ax.set_yticks(x)\n",
    "ax.set_yticklabels(tests.astype(str).values, rotation = \"horizontal\")\n",
    "ax.set_axisbelow(True)\n",
    "ax.set_xlim([-1, 1])\n",
    "ax.legend()\n",
    "plt.show()"
   ]
  },
  {
   "cell_type": "markdown",
   "id": "661837fe",
   "metadata": {},
   "source": [
    "# Conclusion<a class=\"anchor\" id=\"conc\"></a>\n",
    "Based on the data presented here, it is possible to run a machine learning application with highly imbalanced data. However, there are certain antibiasing methods that work better than others. Depriving the algorithm of training data or adding synthetic data may force the algorithm to make inaccurate predictions based on a lack of data or based on duplicate data, but strategic undersampling may <i>slightly</i> improve scores by not allowing the algorithm to default to the majority class based on data that is more likely to appear in it. Adjusting class weights can improve antibiased scores without resizing the data and causing these potential issues, especially when combined with limiting the number of branches in the tree to avoid overanalysis of anomalous data. Combining strategic undersampling, adjusted class weights, and limited tree depth may improve scores even further: the HSS metric from using the balanced class weights and the limited tree depths notably improves by using strategically undersampled training data. From this information, it may be concluded that using adjusted class weights and leaving out anomalies in analyses are the best actions to take and cause the least uncertainty, but combining these techniques with strategic undersampling may improve metrics further when balanced class weights are used.\n",
    "# Applicability to Other Algorithms<a class=\"anchor\" id=\"app\"></a>\n",
    "There are also other, similar methods of correcting class imbalances that can be used when implementing other algorithms. For example, class weights in a neural network classifier can also be adjusted as a hyperparameter and dropout layers can be used to filter anomalies that could cause overfitting. "
   ]
  },
  {
   "cell_type": "markdown",
   "id": "7403647a",
   "metadata": {},
   "source": [
    "# References<a class=\"anchor\" id=\"ref\"></a>\n",
    "[1] Whitman, K. et al. (2022). Review of Solar Energetic Particle Models. Advances in Space Research, 6. Submitted for publication.\n",
    "\n",
    "[2] Benz, A.O. et al. (2007). Are there Radio-quiet Solar Flares? Cornell University, 1. https://arxiv.org/pdf/astro-ph/0701570.pdf"
   ]
  }
 ],
 "metadata": {
  "kernelspec": {
   "display_name": "Python 3 (ipykernel)",
   "language": "python",
   "name": "python3"
  },
  "language_info": {
   "codemirror_mode": {
    "name": "ipython",
    "version": 3
   },
   "file_extension": ".py",
   "mimetype": "text/x-python",
   "name": "python",
   "nbconvert_exporter": "python",
   "pygments_lexer": "ipython3",
   "version": "3.10.4"
  }
 },
 "nbformat": 4,
 "nbformat_minor": 5
}
